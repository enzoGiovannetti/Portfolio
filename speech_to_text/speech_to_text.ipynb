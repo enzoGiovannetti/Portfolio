{
 "cells": [
  {
   "cell_type": "code",
   "execution_count": 1,
   "metadata": {},
   "outputs": [],
   "source": [
    "import speech_recognition as sr \n",
    "from googletrans import Translator\n",
    "import sys , os\n"
   ]
  },
  {
   "cell_type": "code",
   "execution_count": 2,
   "metadata": {},
   "outputs": [],
   "source": [
    "r = sr.Recognizer()\n"
   ]
  },
  {
   "attachments": {},
   "cell_type": "markdown",
   "metadata": {},
   "source": [
    "<h1>Parte com audio já gravado</h1>\n",
    "precisa ser um arquivo gravado em wav, não só convertido"
   ]
  },
  {
   "cell_type": "code",
   "execution_count": 15,
   "metadata": {},
   "outputs": [
    {
     "name": "stdout",
     "output_type": "stream",
     "text": [
      "captando .... \n",
      "result2:\n",
      "{   'alternative': [   {   'confidence': 0.78526539,\n",
      "                           'transcript': 'Agora sim tentativa 2 para ver se '\n",
      "                                         'isso aqui logo funciona'},\n",
      "                       {   'transcript': 'Agora sim tentativa dois para ver se '\n",
      "                                         'isso aqui logo funciona'}],\n",
      "    'final': True}\n",
      "Você disse: Agora sim tentativa 2 para ver se isso aqui logo funciona\n",
      "Você disse em ingles: Now yes attempt 2 to see if this here works\n"
     ]
    }
   ],
   "source": [
    "\n",
    "audio_file = sr.AudioFile(\"teste.wav\")\n",
    "\n",
    "with audio_file as source:\n",
    "    r.adjust_for_ambient_noise(source)\n",
    "    audio = r.record(source)\n",
    "    print(\"captando .... \")\n",
    " \n",
    " \n",
    " \n",
    "    try:    \n",
    "        texto = str(r.recognize_google(audio,language='pt-BR'))\n",
    "        print('Você disse: ' + texto) # type: ignore\n",
    "        tradutor = Translator()\n",
    "        texto_traduzido = tradutor.translate(texto, dest='en')\n",
    "        print(\"Você disse em ingles: \" + str(texto_traduzido.text)) # type: ignore\n",
    "        \n",
    " \n",
    " \n",
    "    except Exception as e:\n",
    "        exc_type, exc_obj, exc_tb = sys.exc_info()\n",
    "        fname = os.path.split(exc_tb.tb_frame.f_code.co_filename)[1] # type: ignore\n",
    "        print(exc_type, fname, exc_tb.tb_lineno, e) # type: ignore"
   ]
  },
  {
   "attachments": {},
   "cell_type": "markdown",
   "metadata": {},
   "source": [
    "<h1>Parte de gravar com microfone</h1>"
   ]
  },
  {
   "cell_type": "code",
   "execution_count": 4,
   "metadata": {},
   "outputs": [
    {
     "name": "stdout",
     "output_type": "stream",
     "text": [
      "Diga algo\n",
      "Gravando .... \n",
      "result2:\n",
      "{   'alternative': [   {   'confidence': 0.82141507,\n",
      "                           'transcript': 'meu namorado me ama às vezes eu fico '\n",
      "                                         'com dúvida mas às vezes não porque '\n",
      "                                         'às vezes ele me faz cosquinha'},\n",
      "                       {   'transcript': 'meu namorado me ama às vezes eu fico '\n",
      "                                         'com dúvida mas às vezes não Por que '\n",
      "                                         'às vezes ele me faz cosquinha'}],\n",
      "    'final': True}\n",
      "Você disse: meu namorado me ama às vezes eu fico com dúvida mas às vezes não porque às vezes ele me faz cosquinha\n",
      "Você disse em ingles: My boyfriend loves me sometimes I get doubt but sometimes not because sometimes he makes me little\n"
     ]
    }
   ],
   "source": [
    "with sr.Microphone() as source:\n",
    "    r.adjust_for_ambient_noise(source)\n",
    "    print(\"Diga algo\")\n",
    "    audio = r.listen(source)\n",
    "    print(\"Gravando .... \")\n",
    " \n",
    " \n",
    " \n",
    "    try:\n",
    "        texto = str(r.recognize_google(audio,language='pt-BR'))\n",
    "        print('Você disse: ' + texto) # type: ignore\n",
    "        tradutor = Translator()\n",
    "        texto_traduzido = tradutor.translate(texto, dest='en')\n",
    "        print(\"Você disse em ingles: \" + str(texto_traduzido.text)) # type: ignore\n",
    "        \n",
    " \n",
    " \n",
    "    except Exception as e:\n",
    "        exc_type, exc_obj, exc_tb = sys.exc_info()\n",
    "        fname = os.path.split(exc_tb.tb_frame.f_code.co_filename)[1] # type: ignore\n",
    "        print(exc_type, fname, exc_tb.tb_lineno, e) # type: ignore\n",
    " \n",
    "    # # write audio\n",
    "    # with open(\"recorded.wav\", \"wb\") as f:\n",
    "    #     f.write(audio.get_wav_data())"
   ]
  }
 ],
 "metadata": {
  "kernelspec": {
   "display_name": "base",
   "language": "python",
   "name": "python3"
  },
  "language_info": {
   "codemirror_mode": {
    "name": "ipython",
    "version": 3
   },
   "file_extension": ".py",
   "mimetype": "text/x-python",
   "name": "python",
   "nbconvert_exporter": "python",
   "pygments_lexer": "ipython3",
   "version": "3.9.12 (main, Apr  4 2022, 05:22:27) [MSC v.1916 64 bit (AMD64)]"
  },
  "orig_nbformat": 4,
  "vscode": {
   "interpreter": {
    "hash": "ad2bdc8ecc057115af97d19610ffacc2b4e99fae6737bb82f5d7fb13d2f2c186"
   }
  }
 },
 "nbformat": 4,
 "nbformat_minor": 2
}
