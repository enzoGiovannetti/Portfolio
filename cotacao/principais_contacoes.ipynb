{
 "cells": [
  {
   "cell_type": "code",
   "execution_count": 20,
   "metadata": {},
   "outputs": [],
   "source": [
    "import pandas as pd\n",
    "from forex_python.converter import CurrencyRates\n",
    "cr = CurrencyRates()"
   ]
  },
  {
   "attachments": {},
   "cell_type": "markdown",
   "metadata": {},
   "source": [
    "<h1>Principais moedas</h1>"
   ]
  },
  {
   "cell_type": "code",
   "execution_count": 23,
   "metadata": {},
   "outputs": [
    {
     "ename": "IndexError",
     "evalue": "list index out of range",
     "output_type": "error",
     "traceback": [
      "\u001b[1;31m---------------------------------------------------------------------------\u001b[0m",
      "\u001b[1;31mIndexError\u001b[0m                                Traceback (most recent call last)",
      "\u001b[1;32mc:\\Users\\enzow\\OneDrive\\Documentos\\portifolio\\Portfolio\\cotacao\\principais_contacoes.ipynb Cell 3\u001b[0m in \u001b[0;36m<cell line: 12>\u001b[1;34m()\u001b[0m\n\u001b[0;32m     <a href='vscode-notebook-cell:/c%3A/Users/enzow/OneDrive/Documentos/portifolio/Portfolio/cotacao/principais_contacoes.ipynb#W1sZmlsZQ%3D%3D?line=9'>10</a>\u001b[0m dados \u001b[39m=\u001b[39m []\n\u001b[0;32m     <a href='vscode-notebook-cell:/c%3A/Users/enzow/OneDrive/Documentos/portifolio/Portfolio/cotacao/principais_contacoes.ipynb#W1sZmlsZQ%3D%3D?line=11'>12</a>\u001b[0m \u001b[39mfor\u001b[39;00m i \u001b[39min\u001b[39;00m \u001b[39mrange\u001b[39m(\u001b[39m5\u001b[39m):\n\u001b[1;32m---> <a href='vscode-notebook-cell:/c%3A/Users/enzow/OneDrive/Documentos/portifolio/Portfolio/cotacao/principais_contacoes.ipynb#W1sZmlsZQ%3D%3D?line=12'>13</a>\u001b[0m     \u001b[39mlist\u001b[39m \u001b[39m=\u001b[39m [moedas[i],valor[i]]\n\u001b[0;32m     <a href='vscode-notebook-cell:/c%3A/Users/enzow/OneDrive/Documentos/portifolio/Portfolio/cotacao/principais_contacoes.ipynb#W1sZmlsZQ%3D%3D?line=13'>14</a>\u001b[0m     dados\u001b[39m.\u001b[39mappend(\u001b[39mlist\u001b[39m)\n\u001b[0;32m     <a href='vscode-notebook-cell:/c%3A/Users/enzow/OneDrive/Documentos/portifolio/Portfolio/cotacao/principais_contacoes.ipynb#W1sZmlsZQ%3D%3D?line=15'>16</a>\u001b[0m df \u001b[39m=\u001b[39m pd\u001b[39m.\u001b[39mDataFrame(dados, columns\u001b[39m=\u001b[39m[\u001b[39m'\u001b[39m\u001b[39mMoedas\u001b[39m\u001b[39m'\u001b[39m, \u001b[39m'\u001b[39m\u001b[39mValor\u001b[39m\u001b[39m'\u001b[39m])\n",
      "\u001b[1;31mIndexError\u001b[0m: list index out of range"
     ]
    }
   ],
   "source": [
    "\n",
    "dolar = round(cr.get_rate('USD','BRL'),4)\n",
    "euro = round(cr.get_rate('EUR','BRL'),4)\n",
    "libra = round(cr.get_rate('GBP','BRL'),4)\n",
    "dolar_c = round(cr.get_rate('CAD','BRL'),4)\n",
    "\n",
    "\n",
    "moedas = ['Dolar', 'Euro', 'Libra Esterlina', 'Dolar Canadense']\n",
    "valor = [dolar,euro,libra,dolar_c]\n",
    "\n",
    "dados = []\n",
    "\n",
    "for i in range(5):\n",
    "    try:\n",
    "        list = [moedas[i],valor[i]]\n",
    "        dados.append(list)\n",
    "    except:\n",
    "        pass\n",
    "\n",
    "df = pd.DataFrame(dados, columns=['Moedas', 'Valor'])\n",
    "df"
   ]
  },
  {
   "cell_type": "code",
   "execution_count": null,
   "metadata": {},
   "outputs": [],
   "source": []
  }
 ],
 "metadata": {
  "kernelspec": {
   "display_name": "base",
   "language": "python",
   "name": "python3"
  },
  "language_info": {
   "codemirror_mode": {
    "name": "ipython",
    "version": 3
   },
   "file_extension": ".py",
   "mimetype": "text/x-python",
   "name": "python",
   "nbconvert_exporter": "python",
   "pygments_lexer": "ipython3",
   "version": "3.9.12"
  },
  "orig_nbformat": 4,
  "vscode": {
   "interpreter": {
    "hash": "ad2bdc8ecc057115af97d19610ffacc2b4e99fae6737bb82f5d7fb13d2f2c186"
   }
  }
 },
 "nbformat": 4,
 "nbformat_minor": 2
}
