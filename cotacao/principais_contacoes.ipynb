{
 "cells": [
  {
   "cell_type": "code",
   "execution_count": 1,
   "metadata": {},
   "outputs": [],
   "source": [
    "import pandas as pd\n",
    "from forex_python.converter import CurrencyRates\n",
    "cr = CurrencyRates()"
   ]
  },
  {
   "attachments": {},
   "cell_type": "markdown",
   "metadata": {},
   "source": [
    "<h1>Principais moedas</h1>"
   ]
  },
  {
   "cell_type": "code",
   "execution_count": 2,
   "metadata": {},
   "outputs": [
    {
     "data": {
      "text/html": [
       "<div>\n",
       "<style scoped>\n",
       "    .dataframe tbody tr th:only-of-type {\n",
       "        vertical-align: middle;\n",
       "    }\n",
       "\n",
       "    .dataframe tbody tr th {\n",
       "        vertical-align: top;\n",
       "    }\n",
       "\n",
       "    .dataframe thead th {\n",
       "        text-align: right;\n",
       "    }\n",
       "</style>\n",
       "<table border=\"1\" class=\"dataframe\">\n",
       "  <thead>\n",
       "    <tr style=\"text-align: right;\">\n",
       "      <th></th>\n",
       "      <th>Moedas</th>\n",
       "      <th>Valor</th>\n",
       "    </tr>\n",
       "  </thead>\n",
       "  <tbody>\n",
       "    <tr>\n",
       "      <th>0</th>\n",
       "      <td>Dolar</td>\n",
       "      <td>5.1726</td>\n",
       "    </tr>\n",
       "    <tr>\n",
       "      <th>1</th>\n",
       "      <td>Euro</td>\n",
       "      <td>5.6164</td>\n",
       "    </tr>\n",
       "    <tr>\n",
       "      <th>2</th>\n",
       "      <td>Libra Esterlina</td>\n",
       "      <td>6.3557</td>\n",
       "    </tr>\n",
       "    <tr>\n",
       "      <th>3</th>\n",
       "      <td>Dolar Canadense</td>\n",
       "      <td>3.8688</td>\n",
       "    </tr>\n",
       "  </tbody>\n",
       "</table>\n",
       "</div>"
      ],
      "text/plain": [
       "            Moedas   Valor\n",
       "0            Dolar  5.1726\n",
       "1             Euro  5.6164\n",
       "2  Libra Esterlina  6.3557\n",
       "3  Dolar Canadense  3.8688"
      ]
     },
     "execution_count": 2,
     "metadata": {},
     "output_type": "execute_result"
    }
   ],
   "source": [
    "\n",
    "dolar = round(cr.get_rate('USD','BRL'),4)\n",
    "euro = round(cr.get_rate('EUR','BRL'),4)\n",
    "libra = round(cr.get_rate('GBP','BRL'),4)\n",
    "dolar_c = round(cr.get_rate('CAD','BRL'),4)\n",
    "\n",
    "\n",
    "moedas = ['Dolar', 'Euro', 'Libra Esterlina', 'Dolar Canadense']\n",
    "valor = [dolar,euro,libra,dolar_c]\n",
    "\n",
    "dados = []\n",
    "\n",
    "for i in range(5):\n",
    "    try:\n",
    "        list = [moedas[i],valor[i]]\n",
    "        dados.append(list)\n",
    "    except:\n",
    "        pass\n",
    "\n",
    "df = pd.DataFrame(dados, columns=['Moedas', 'Valor'])\n",
    "df"
   ]
  },
  {
   "attachments": {},
   "cell_type": "markdown",
   "metadata": {},
   "source": [
    "https://api.exchangerate-api.com/v4/latest/BRL\n",
    "\n",
    "processo em andamento para ficar bom"
   ]
  },
  {
   "cell_type": "code",
   "execution_count": 1,
   "metadata": {},
   "outputs": [
    {
     "name": "stdout",
     "output_type": "stream",
     "text": [
      "https://api.exchangerate-api.com/v4/latest/JPY\n"
     ]
    }
   ],
   "source": [
    "comp = 'JPY'\n",
    "link ='https://api.exchangerate-api.com/v4/latest/' + comp\n",
    "print(link)"
   ]
  }
 ],
 "metadata": {
  "kernelspec": {
   "display_name": "base",
   "language": "python",
   "name": "python3"
  },
  "language_info": {
   "codemirror_mode": {
    "name": "ipython",
    "version": 3
   },
   "file_extension": ".py",
   "mimetype": "text/x-python",
   "name": "python",
   "nbconvert_exporter": "python",
   "pygments_lexer": "ipython3",
   "version": "3.9.12"
  },
  "orig_nbformat": 4,
  "vscode": {
   "interpreter": {
    "hash": "ad2bdc8ecc057115af97d19610ffacc2b4e99fae6737bb82f5d7fb13d2f2c186"
   }
  }
 },
 "nbformat": 4,
 "nbformat_minor": 2
}
